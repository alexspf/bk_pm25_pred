{
 "cells": [
  {
   "cell_type": "markdown",
   "metadata": {},
   "source": [
    "# Bakersfield PM2.5 Prediction\n",
    " This notebook focuses on obtaining the best subset of the database for Bakersfield city in California to train a model for predicting PM2.5 concentration in the air.<br>\n",
    " \n",
    "<img src=\"images/reference.png\" alt=\"\" style=\"width:450px;\"> \n",
    "<img src=\"images/city.png\" alt=\"\" style=\"width:450px;\">"
   ]
  },
  {
   "cell_type": "markdown",
   "metadata": {},
   "source": [
    "# Merge the Data"
   ]
  },
  {
   "cell_type": "code",
   "execution_count": null,
   "metadata": {},
   "outputs": [],
   "source": [
    "import pandas as pd\n",
    "\n",
    "dfs = {}\n",
    "\n",
    "for i in range(1999, 2025):\n",
    "    dfs[f\"df{i-1998}\"] = pd.read_csv(f\"data_raw/pm25_{i}.csv\")\n",
    "\n",
    "data = pd.concat(dfs.values(), ignore_index=True, verify_integrity=True)\n",
    "\n",
    "data.to_csv('data_mod/data_merge.csv', index=False) \n",
    "\n"
   ]
  },
  {
   "cell_type": "markdown",
   "metadata": {},
   "source": [
    "## Check the Data"
   ]
  },
  {
   "cell_type": "markdown",
   "metadata": {},
   "source": [
    "All the data in Bakersfield"
   ]
  },
  {
   "cell_type": "code",
   "execution_count": null,
   "metadata": {},
   "outputs": [],
   "source": [
    "all((data['CBSA_NAME'].unique())=='Bakersfield, CA')"
   ]
  },
  {
   "cell_type": "markdown",
   "metadata": {},
   "source": [
    "Split Bakersfield sites"
   ]
  },
  {
   "cell_type": "code",
   "execution_count": null,
   "metadata": {},
   "outputs": [],
   "source": [
    "equal = data['Site Name'].nunique() == data['Site ID'].nunique()\n",
    "\n",
    "if equal:\n",
    "    print(\"IDs=Sites Names.\")\n",
    "else:\n",
    "    print(\"IDs!=Sites Names.\")\n",
    "\n",
    "\n",
    "for i, (site_id, group) in enumerate(data.groupby('Site ID'), start=1):\n",
    "    filename = f\"data_mod/id_{i}.csv\"\n",
    "    group.to_csv(filename, index=False)\n"
   ]
  },
  {
   "cell_type": "markdown",
   "metadata": {},
   "source": [
    "The site with the most data on Bakersfield"
   ]
  },
  {
   "cell_type": "code",
   "execution_count": null,
   "metadata": {},
   "outputs": [],
   "source": [
    "num_rows_per_id = []\n",
    "\n",
    "for site_id in range(1, 13):\n",
    "    filename = f\"data_mod/id_{site_id}.csv\"\n",
    "    df = pd.read_csv(filename)\n",
    "    \n",
    "    num_rows = len(df)\n",
    "    num_rows_per_id.append(num_rows)\n",
    "\n",
    "    print(f\"The DataFrame for 'Site ID' {site_id} has {num_rows} rows.\")\n"
   ]
  },
  {
   "cell_type": "markdown",
   "metadata": {},
   "source": [
    "Check duplitcates"
   ]
  },
  {
   "cell_type": "code",
   "execution_count": null,
   "metadata": {},
   "outputs": [],
   "source": [
    "import pandas as pd\n",
    "\n",
    "# Load the DataFrame from the CSV file\n",
    "data = pd.read_csv(\"data_mod/id_3.csv\")\n",
    "\n",
    "data_original = data.copy()\n",
    "\n",
    "data_unique = data.drop_duplicates()\n",
    "\n",
    "print(f'DataFrame original shape: {data_original.shape}')\n",
    "print(f'data unique shape: {data_unique.shape}')"
   ]
  },
  {
   "cell_type": "markdown",
   "metadata": {},
   "source": [
    "# Select  data (and Start modules)"
   ]
  },
  {
   "cell_type": "markdown",
   "metadata": {},
   "source": [
    "##### Select Data (Start modules)"
   ]
  },
  {
   "cell_type": "code",
   "execution_count": 197,
   "metadata": {},
   "outputs": [],
   "source": [
    "import pandas as pd\n",
    "import numpy as np\n",
    "import matplotlib.pyplot as plt\n",
    "\n",
    "data = pd.read_csv(\"data_mod/id_3.csv\")\n",
    "\n",
    "data_mod = data[ ['Date', 'Daily Mean PM2.5 Concentration']].copy()\n",
    "data_mod.rename(columns={'Daily Mean PM2.5 Concentration': 'pm25', 'Date': 'day'}, inplace=True)\n",
    "data_mod['day'] = pd.to_datetime(data_mod['day'], format='%m/%d/%Y', errors='coerce')\n",
    "data_mod.sort_values(by='day', inplace=True)\n",
    "data_mod.set_index(['day'], inplace=True, drop=False)\n"
   ]
  },
  {
   "cell_type": "code",
   "execution_count": 198,
   "metadata": {},
   "outputs": [
    {
     "data": {
      "text/html": [
       "<div>\n",
       "<style scoped>\n",
       "    .dataframe tbody tr th:only-of-type {\n",
       "        vertical-align: middle;\n",
       "    }\n",
       "\n",
       "    .dataframe tbody tr th {\n",
       "        vertical-align: top;\n",
       "    }\n",
       "\n",
       "    .dataframe thead th {\n",
       "        text-align: right;\n",
       "    }\n",
       "</style>\n",
       "<table border=\"1\" class=\"dataframe\">\n",
       "  <thead>\n",
       "    <tr style=\"text-align: right;\">\n",
       "      <th></th>\n",
       "      <th>day</th>\n",
       "      <th>pm25</th>\n",
       "    </tr>\n",
       "    <tr>\n",
       "      <th>day</th>\n",
       "      <th></th>\n",
       "      <th></th>\n",
       "    </tr>\n",
       "  </thead>\n",
       "  <tbody>\n",
       "    <tr>\n",
       "      <th>1999-01-03</th>\n",
       "      <td>1999-01-03</td>\n",
       "      <td>49.0</td>\n",
       "    </tr>\n",
       "    <tr>\n",
       "      <th>1999-01-06</th>\n",
       "      <td>1999-01-06</td>\n",
       "      <td>43.0</td>\n",
       "    </tr>\n",
       "    <tr>\n",
       "      <th>1999-01-06</th>\n",
       "      <td>1999-01-06</td>\n",
       "      <td>46.0</td>\n",
       "    </tr>\n",
       "    <tr>\n",
       "      <th>1999-01-09</th>\n",
       "      <td>1999-01-09</td>\n",
       "      <td>73.0</td>\n",
       "    </tr>\n",
       "    <tr>\n",
       "      <th>1999-01-12</th>\n",
       "      <td>1999-01-12</td>\n",
       "      <td>74.0</td>\n",
       "    </tr>\n",
       "  </tbody>\n",
       "</table>\n",
       "</div>"
      ],
      "text/plain": [
       "                  day  pm25\n",
       "day                        \n",
       "1999-01-03 1999-01-03  49.0\n",
       "1999-01-06 1999-01-06  43.0\n",
       "1999-01-06 1999-01-06  46.0\n",
       "1999-01-09 1999-01-09  73.0\n",
       "1999-01-12 1999-01-12  74.0"
      ]
     },
     "execution_count": 198,
     "metadata": {},
     "output_type": "execute_result"
    }
   ],
   "source": [
    "data_mod.head()"
   ]
  },
  {
   "cell_type": "markdown",
   "metadata": {},
   "source": [
    "##### Data Plot"
   ]
  },
  {
   "cell_type": "code",
   "execution_count": 130,
   "metadata": {},
   "outputs": [
    {
     "data": {
      "text/plain": [
       "Text(0, 0.5, 'pm25')"
      ]
     },
     "execution_count": 130,
     "metadata": {},
     "output_type": "execute_result"
    },
    {
     "data": {
      "image/png": "[encoded data removed]",
      "text/plain": [
       "<Figure size 640x480 with 1 Axes>"
      ]
     },
     "metadata": {},
     "output_type": "display_data"
    }
   ],
   "source": [
    "plt.plot(data_mod['day'], data_mod['pm25'])\n",
    "plt.xlabel('year')\n",
    "plt.ylabel('pm25')"
   ]
  },
  {
   "cell_type": "markdown",
   "metadata": {},
   "source": [
    "##### Data Temporal Resizing"
   ]
  },
  {
   "cell_type": "code",
   "execution_count": 200,
   "metadata": {},
   "outputs": [
    {
     "data": {
      "text/html": [
       "<div>\n",
       "<style scoped>\n",
       "    .dataframe tbody tr th:only-of-type {\n",
       "        vertical-align: middle;\n",
       "    }\n",
       "\n",
       "    .dataframe tbody tr th {\n",
       "        vertical-align: top;\n",
       "    }\n",
       "\n",
       "    .dataframe thead th {\n",
       "        text-align: right;\n",
       "    }\n",
       "</style>\n",
       "<table border=\"1\" class=\"dataframe\">\n",
       "  <thead>\n",
       "    <tr style=\"text-align: right;\">\n",
       "      <th></th>\n",
       "      <th>day</th>\n",
       "      <th>pm25</th>\n",
       "    </tr>\n",
       "    <tr>\n",
       "      <th>day</th>\n",
       "      <th></th>\n",
       "      <th></th>\n",
       "    </tr>\n",
       "  </thead>\n",
       "  <tbody>\n",
       "    <tr>\n",
       "      <th>1999-01-12 00:00:00.000000000</th>\n",
       "      <td>1999-01-12 00:00:00.000000000</td>\n",
       "      <td>50.500000</td>\n",
       "    </tr>\n",
       "    <tr>\n",
       "      <th>1999-02-03 09:52:56.470588288</th>\n",
       "      <td>1999-02-03 09:52:56.470588288</td>\n",
       "      <td>29.717647</td>\n",
       "    </tr>\n",
       "    <tr>\n",
       "      <th>1999-02-22 19:30:00.000000000</th>\n",
       "      <td>1999-02-22 19:30:00.000000000</td>\n",
       "      <td>22.893750</td>\n",
       "    </tr>\n",
       "    <tr>\n",
       "      <th>1999-03-13 00:00:00.000000000</th>\n",
       "      <td>1999-03-13 00:00:00.000000000</td>\n",
       "      <td>12.661111</td>\n",
       "    </tr>\n",
       "    <tr>\n",
       "      <th>1999-04-04 06:51:25.714285696</th>\n",
       "      <td>1999-04-04 06:51:25.714285696</td>\n",
       "      <td>8.096429</td>\n",
       "    </tr>\n",
       "  </tbody>\n",
       "</table>\n",
       "</div>"
      ],
      "text/plain": [
       "                                                        day       pm25\n",
       "day                                                                   \n",
       "1999-01-12 00:00:00.000000000 1999-01-12 00:00:00.000000000  50.500000\n",
       "1999-02-03 09:52:56.470588288 1999-02-03 09:52:56.470588288  29.717647\n",
       "1999-02-22 19:30:00.000000000 1999-02-22 19:30:00.000000000  22.893750\n",
       "1999-03-13 00:00:00.000000000 1999-03-13 00:00:00.000000000  12.661111\n",
       "1999-04-04 06:51:25.714285696 1999-04-04 06:51:25.714285696   8.096429"
      ]
     },
     "execution_count": 200,
     "metadata": {},
     "output_type": "execute_result"
    }
   ],
   "source": [
    "\n",
    "\n",
    "\n",
    "\n",
    "time_freq = \"20D\"\n",
    "\n",
    "data_mod = data_mod.resample(time_freq).mean()\n",
    "\n",
    "# Criar um novo índice de datas com a frequência desejada, começando na primeira data e terminando na última data dos dados\n",
    "data_mod.set_index(['day'], inplace=True, drop=False)\n",
    "data_mod.head()\n",
    "\n",
    "\n"
   ]
  },
  {
   "cell_type": "code",
   "execution_count": 206,
   "metadata": {},
   "outputs": [
    {
     "data": {
      "text/plain": [
       "day\n",
       "1999-01-12 00:00:00.000000000    False\n",
       "1999-02-03 09:52:56.470588288    False\n",
       "1999-02-22 19:30:00.000000000    False\n",
       "1999-03-13 00:00:00.000000000    False\n",
       "1999-04-04 06:51:25.714285696    False\n",
       "                                 ...  \n",
       "NaT                               True\n",
       "2023-11-22 12:00:00.000000000    False\n",
       "2023-12-12 12:00:00.000000000    False\n",
       "2024-01-01 17:41:03.157894656    False\n",
       "2024-01-21 00:00:00.000000000    False\n",
       "Name: day, Length: 458, dtype: bool"
      ]
     },
     "execution_count": 206,
     "metadata": {},
     "output_type": "execute_result"
    }
   ],
   "source": [
    "nan_df = data_mod.isna()\n",
    "\n",
    "# Verifique se há NaN em uma coluna específica (por exemplo, 'Date')\n",
    "nan_date_column = data_mod['day'].isna()\n",
    "nan_date_column"
   ]
  },
  {
   "cell_type": "markdown",
   "metadata": {},
   "source": [
    "##### Data split (train, val,test)"
   ]
  },
  {
   "cell_type": "markdown",
   "metadata": {},
   "source": [
    "# Analisys"
   ]
  },
  {
   "cell_type": "markdown",
   "metadata": {},
   "source": [
    "## PCA"
   ]
  },
  {
   "cell_type": "code",
   "execution_count": 201,
   "metadata": {},
   "outputs": [
    {
     "ename": "ValueError",
     "evalue": "Input X contains NaN.\nPCA does not accept missing values encoded as NaN natively. For supervised learning, you might want to consider sklearn.ensemble.HistGradientBoostingClassifier and Regressor which accept missing values encoded as NaNs natively. Alternatively, it is possible to preprocess the data, for instance by using an imputer transformer in a pipeline or drop samples with missing values. See https://scikit-learn.org/stable/modules/impute.html You can find a list of all estimators that handle NaN values at the following page: https://scikit-learn.org/stable/modules/impute.html#estimators-that-handle-nan-values",
     "output_type": "error",
     "traceback": [
      "\u001b[0;31m---------------------------------------------------------------------------\u001b[0m",
      "\u001b[0;31mValueError\u001b[0m                                Traceback (most recent call last)",
      "Cell \u001b[0;32mIn[201], line 14\u001b[0m\n\u001b[1;32m     10\u001b[0m data_mod_normalized \u001b[38;5;241m=\u001b[39m (data_mod_numeric \u001b[38;5;241m-\u001b[39m data_mod_numeric\u001b[38;5;241m.\u001b[39mmean()) \u001b[38;5;241m/\u001b[39m data_mod_numeric\u001b[38;5;241m.\u001b[39mstd()\n\u001b[1;32m     13\u001b[0m pca \u001b[38;5;241m=\u001b[39m PCA()\n\u001b[0;32m---> 14\u001b[0m \u001b[43mpca\u001b[49m\u001b[38;5;241;43m.\u001b[39;49m\u001b[43mfit\u001b[49m\u001b[43m(\u001b[49m\u001b[43mdata_mod_normalized\u001b[49m\u001b[43m)\u001b[49m\n\u001b[1;32m     16\u001b[0m \u001b[38;5;66;03m# Plot\u001b[39;00m\n\u001b[1;32m     17\u001b[0m cumulative_variance_ratio \u001b[38;5;241m=\u001b[39m np\u001b[38;5;241m.\u001b[39mcumsum(pca\u001b[38;5;241m.\u001b[39mexplained_variance_ratio_)\n",
      "File \u001b[0;32m~/.local/lib/python3.10/site-packages/sklearn/base.py:1351\u001b[0m, in \u001b[0;36m_fit_context.<locals>.decorator.<locals>.wrapper\u001b[0;34m(estimator, *args, **kwargs)\u001b[0m\n\u001b[1;32m   1344\u001b[0m     estimator\u001b[38;5;241m.\u001b[39m_validate_params()\n\u001b[1;32m   1346\u001b[0m \u001b[38;5;28;01mwith\u001b[39;00m config_context(\n\u001b[1;32m   1347\u001b[0m     skip_parameter_validation\u001b[38;5;241m=\u001b[39m(\n\u001b[1;32m   1348\u001b[0m         prefer_skip_nested_validation \u001b[38;5;129;01mor\u001b[39;00m global_skip_validation\n\u001b[1;32m   1349\u001b[0m     )\n\u001b[1;32m   1350\u001b[0m ):\n\u001b[0;32m-> 1351\u001b[0m     \u001b[38;5;28;01mreturn\u001b[39;00m \u001b[43mfit_method\u001b[49m\u001b[43m(\u001b[49m\u001b[43mestimator\u001b[49m\u001b[43m,\u001b[49m\u001b[43m \u001b[49m\u001b[38;5;241;43m*\u001b[39;49m\u001b[43margs\u001b[49m\u001b[43m,\u001b[49m\u001b[43m \u001b[49m\u001b[38;5;241;43m*\u001b[39;49m\u001b[38;5;241;43m*\u001b[39;49m\u001b[43mkwargs\u001b[49m\u001b[43m)\u001b[49m\n",
      "File \u001b[0;32m~/.local/lib/python3.10/site-packages/sklearn/decomposition/_pca.py:428\u001b[0m, in \u001b[0;36mPCA.fit\u001b[0;34m(self, X, y)\u001b[0m\n\u001b[1;32m    410\u001b[0m \u001b[38;5;129m@_fit_context\u001b[39m(prefer_skip_nested_validation\u001b[38;5;241m=\u001b[39m\u001b[38;5;28;01mTrue\u001b[39;00m)\n\u001b[1;32m    411\u001b[0m \u001b[38;5;28;01mdef\u001b[39;00m \u001b[38;5;21mfit\u001b[39m(\u001b[38;5;28mself\u001b[39m, X, y\u001b[38;5;241m=\u001b[39m\u001b[38;5;28;01mNone\u001b[39;00m):\n\u001b[1;32m    412\u001b[0m \u001b[38;5;250m    \u001b[39m\u001b[38;5;124;03m\"\"\"Fit the model with X.\u001b[39;00m\n\u001b[1;32m    413\u001b[0m \n\u001b[1;32m    414\u001b[0m \u001b[38;5;124;03m    Parameters\u001b[39;00m\n\u001b[0;32m   (...)\u001b[0m\n\u001b[1;32m    426\u001b[0m \u001b[38;5;124;03m        Returns the instance itself.\u001b[39;00m\n\u001b[1;32m    427\u001b[0m \u001b[38;5;124;03m    \"\"\"\u001b[39;00m\n\u001b[0;32m--> 428\u001b[0m     \u001b[38;5;28;43mself\u001b[39;49m\u001b[38;5;241;43m.\u001b[39;49m\u001b[43m_fit\u001b[49m\u001b[43m(\u001b[49m\u001b[43mX\u001b[49m\u001b[43m)\u001b[49m\n\u001b[1;32m    429\u001b[0m     \u001b[38;5;28;01mreturn\u001b[39;00m \u001b[38;5;28mself\u001b[39m\n",
      "File \u001b[0;32m~/.local/lib/python3.10/site-packages/sklearn/decomposition/_pca.py:483\u001b[0m, in \u001b[0;36mPCA._fit\u001b[0;34m(self, X)\u001b[0m\n\u001b[1;32m    478\u001b[0m \u001b[38;5;28;01mif\u001b[39;00m \u001b[38;5;28mself\u001b[39m\u001b[38;5;241m.\u001b[39msvd_solver \u001b[38;5;241m==\u001b[39m \u001b[38;5;124m\"\u001b[39m\u001b[38;5;124marpack\u001b[39m\u001b[38;5;124m\"\u001b[39m \u001b[38;5;129;01mand\u001b[39;00m is_array_api_compliant:\n\u001b[1;32m    479\u001b[0m     \u001b[38;5;28;01mraise\u001b[39;00m \u001b[38;5;167;01mValueError\u001b[39;00m(\n\u001b[1;32m    480\u001b[0m         \u001b[38;5;124m\"\u001b[39m\u001b[38;5;124mPCA with svd_solver=\u001b[39m\u001b[38;5;124m'\u001b[39m\u001b[38;5;124marpack\u001b[39m\u001b[38;5;124m'\u001b[39m\u001b[38;5;124m is not supported for Array API inputs.\u001b[39m\u001b[38;5;124m\"\u001b[39m\n\u001b[1;32m    481\u001b[0m     )\n\u001b[0;32m--> 483\u001b[0m X \u001b[38;5;241m=\u001b[39m \u001b[38;5;28;43mself\u001b[39;49m\u001b[38;5;241;43m.\u001b[39;49m\u001b[43m_validate_data\u001b[49m\u001b[43m(\u001b[49m\n\u001b[1;32m    484\u001b[0m \u001b[43m    \u001b[49m\u001b[43mX\u001b[49m\u001b[43m,\u001b[49m\n\u001b[1;32m    485\u001b[0m \u001b[43m    \u001b[49m\u001b[43mdtype\u001b[49m\u001b[38;5;241;43m=\u001b[39;49m\u001b[43m[\u001b[49m\u001b[43mxp\u001b[49m\u001b[38;5;241;43m.\u001b[39;49m\u001b[43mfloat64\u001b[49m\u001b[43m,\u001b[49m\u001b[43m \u001b[49m\u001b[43mxp\u001b[49m\u001b[38;5;241;43m.\u001b[39;49m\u001b[43mfloat32\u001b[49m\u001b[43m]\u001b[49m\u001b[43m,\u001b[49m\n\u001b[1;32m    486\u001b[0m \u001b[43m    \u001b[49m\u001b[43maccept_sparse\u001b[49m\u001b[38;5;241;43m=\u001b[39;49m\u001b[43m(\u001b[49m\u001b[38;5;124;43m\"\u001b[39;49m\u001b[38;5;124;43mcsr\u001b[39;49m\u001b[38;5;124;43m\"\u001b[39;49m\u001b[43m,\u001b[49m\u001b[43m \u001b[49m\u001b[38;5;124;43m\"\u001b[39;49m\u001b[38;5;124;43mcsc\u001b[39;49m\u001b[38;5;124;43m\"\u001b[39;49m\u001b[43m)\u001b[49m\u001b[43m,\u001b[49m\n\u001b[1;32m    487\u001b[0m \u001b[43m    \u001b[49m\u001b[43mensure_2d\u001b[49m\u001b[38;5;241;43m=\u001b[39;49m\u001b[38;5;28;43;01mTrue\u001b[39;49;00m\u001b[43m,\u001b[49m\n\u001b[1;32m    488\u001b[0m \u001b[43m    \u001b[49m\u001b[43mcopy\u001b[49m\u001b[38;5;241;43m=\u001b[39;49m\u001b[38;5;28;43mself\u001b[39;49m\u001b[38;5;241;43m.\u001b[39;49m\u001b[43mcopy\u001b[49m\u001b[43m,\u001b[49m\n\u001b[1;32m    489\u001b[0m \u001b[43m\u001b[49m\u001b[43m)\u001b[49m\n\u001b[1;32m    491\u001b[0m \u001b[38;5;66;03m# Handle n_components==None\u001b[39;00m\n\u001b[1;32m    492\u001b[0m \u001b[38;5;28;01mif\u001b[39;00m \u001b[38;5;28mself\u001b[39m\u001b[38;5;241m.\u001b[39mn_components \u001b[38;5;129;01mis\u001b[39;00m \u001b[38;5;28;01mNone\u001b[39;00m:\n",
      "File \u001b[0;32m~/.local/lib/python3.10/site-packages/sklearn/base.py:633\u001b[0m, in \u001b[0;36mBaseEstimator._validate_data\u001b[0;34m(self, X, y, reset, validate_separately, cast_to_ndarray, **check_params)\u001b[0m\n\u001b[1;32m    631\u001b[0m         out \u001b[38;5;241m=\u001b[39m X, y\n\u001b[1;32m    632\u001b[0m \u001b[38;5;28;01melif\u001b[39;00m \u001b[38;5;129;01mnot\u001b[39;00m no_val_X \u001b[38;5;129;01mand\u001b[39;00m no_val_y:\n\u001b[0;32m--> 633\u001b[0m     out \u001b[38;5;241m=\u001b[39m \u001b[43mcheck_array\u001b[49m\u001b[43m(\u001b[49m\u001b[43mX\u001b[49m\u001b[43m,\u001b[49m\u001b[43m \u001b[49m\u001b[43minput_name\u001b[49m\u001b[38;5;241;43m=\u001b[39;49m\u001b[38;5;124;43m\"\u001b[39;49m\u001b[38;5;124;43mX\u001b[39;49m\u001b[38;5;124;43m\"\u001b[39;49m\u001b[43m,\u001b[49m\u001b[43m \u001b[49m\u001b[38;5;241;43m*\u001b[39;49m\u001b[38;5;241;43m*\u001b[39;49m\u001b[43mcheck_params\u001b[49m\u001b[43m)\u001b[49m\n\u001b[1;32m    634\u001b[0m \u001b[38;5;28;01melif\u001b[39;00m no_val_X \u001b[38;5;129;01mand\u001b[39;00m \u001b[38;5;129;01mnot\u001b[39;00m no_val_y:\n\u001b[1;32m    635\u001b[0m     out \u001b[38;5;241m=\u001b[39m _check_y(y, \u001b[38;5;241m*\u001b[39m\u001b[38;5;241m*\u001b[39mcheck_params)\n",
      "File \u001b[0;32m~/.local/lib/python3.10/site-packages/sklearn/utils/validation.py:1003\u001b[0m, in \u001b[0;36mcheck_array\u001b[0;34m(array, accept_sparse, accept_large_sparse, dtype, order, copy, force_all_finite, ensure_2d, allow_nd, ensure_min_samples, ensure_min_features, estimator, input_name)\u001b[0m\n\u001b[1;32m    997\u001b[0m     \u001b[38;5;28;01mraise\u001b[39;00m \u001b[38;5;167;01mValueError\u001b[39;00m(\n\u001b[1;32m    998\u001b[0m         \u001b[38;5;124m\"\u001b[39m\u001b[38;5;124mFound array with dim \u001b[39m\u001b[38;5;132;01m%d\u001b[39;00m\u001b[38;5;124m. \u001b[39m\u001b[38;5;132;01m%s\u001b[39;00m\u001b[38;5;124m expected <= 2.\u001b[39m\u001b[38;5;124m\"\u001b[39m\n\u001b[1;32m    999\u001b[0m         \u001b[38;5;241m%\u001b[39m (array\u001b[38;5;241m.\u001b[39mndim, estimator_name)\n\u001b[1;32m   1000\u001b[0m     )\n\u001b[1;32m   1002\u001b[0m \u001b[38;5;28;01mif\u001b[39;00m force_all_finite:\n\u001b[0;32m-> 1003\u001b[0m     \u001b[43m_assert_all_finite\u001b[49m\u001b[43m(\u001b[49m\n\u001b[1;32m   1004\u001b[0m \u001b[43m        \u001b[49m\u001b[43marray\u001b[49m\u001b[43m,\u001b[49m\n\u001b[1;32m   1005\u001b[0m \u001b[43m        \u001b[49m\u001b[43minput_name\u001b[49m\u001b[38;5;241;43m=\u001b[39;49m\u001b[43minput_name\u001b[49m\u001b[43m,\u001b[49m\n\u001b[1;32m   1006\u001b[0m \u001b[43m        \u001b[49m\u001b[43mestimator_name\u001b[49m\u001b[38;5;241;43m=\u001b[39;49m\u001b[43mestimator_name\u001b[49m\u001b[43m,\u001b[49m\n\u001b[1;32m   1007\u001b[0m \u001b[43m        \u001b[49m\u001b[43mallow_nan\u001b[49m\u001b[38;5;241;43m=\u001b[39;49m\u001b[43mforce_all_finite\u001b[49m\u001b[43m \u001b[49m\u001b[38;5;241;43m==\u001b[39;49m\u001b[43m \u001b[49m\u001b[38;5;124;43m\"\u001b[39;49m\u001b[38;5;124;43mallow-nan\u001b[39;49m\u001b[38;5;124;43m\"\u001b[39;49m\u001b[43m,\u001b[49m\n\u001b[1;32m   1008\u001b[0m \u001b[43m    \u001b[49m\u001b[43m)\u001b[49m\n\u001b[1;32m   1010\u001b[0m \u001b[38;5;28;01mif\u001b[39;00m copy:\n\u001b[1;32m   1011\u001b[0m     \u001b[38;5;28;01mif\u001b[39;00m _is_numpy_namespace(xp):\n\u001b[1;32m   1012\u001b[0m         \u001b[38;5;66;03m# only make a copy if `array` and `array_orig` may share memory`\u001b[39;00m\n",
      "File \u001b[0;32m~/.local/lib/python3.10/site-packages/sklearn/utils/validation.py:126\u001b[0m, in \u001b[0;36m_assert_all_finite\u001b[0;34m(X, allow_nan, msg_dtype, estimator_name, input_name)\u001b[0m\n\u001b[1;32m    123\u001b[0m \u001b[38;5;28;01mif\u001b[39;00m first_pass_isfinite:\n\u001b[1;32m    124\u001b[0m     \u001b[38;5;28;01mreturn\u001b[39;00m\n\u001b[0;32m--> 126\u001b[0m \u001b[43m_assert_all_finite_element_wise\u001b[49m\u001b[43m(\u001b[49m\n\u001b[1;32m    127\u001b[0m \u001b[43m    \u001b[49m\u001b[43mX\u001b[49m\u001b[43m,\u001b[49m\n\u001b[1;32m    128\u001b[0m \u001b[43m    \u001b[49m\u001b[43mxp\u001b[49m\u001b[38;5;241;43m=\u001b[39;49m\u001b[43mxp\u001b[49m\u001b[43m,\u001b[49m\n\u001b[1;32m    129\u001b[0m \u001b[43m    \u001b[49m\u001b[43mallow_nan\u001b[49m\u001b[38;5;241;43m=\u001b[39;49m\u001b[43mallow_nan\u001b[49m\u001b[43m,\u001b[49m\n\u001b[1;32m    130\u001b[0m \u001b[43m    \u001b[49m\u001b[43mmsg_dtype\u001b[49m\u001b[38;5;241;43m=\u001b[39;49m\u001b[43mmsg_dtype\u001b[49m\u001b[43m,\u001b[49m\n\u001b[1;32m    131\u001b[0m \u001b[43m    \u001b[49m\u001b[43mestimator_name\u001b[49m\u001b[38;5;241;43m=\u001b[39;49m\u001b[43mestimator_name\u001b[49m\u001b[43m,\u001b[49m\n\u001b[1;32m    132\u001b[0m \u001b[43m    \u001b[49m\u001b[43minput_name\u001b[49m\u001b[38;5;241;43m=\u001b[39;49m\u001b[43minput_name\u001b[49m\u001b[43m,\u001b[49m\n\u001b[1;32m    133\u001b[0m \u001b[43m\u001b[49m\u001b[43m)\u001b[49m\n",
      "File \u001b[0;32m~/.local/lib/python3.10/site-packages/sklearn/utils/validation.py:175\u001b[0m, in \u001b[0;36m_assert_all_finite_element_wise\u001b[0;34m(X, xp, allow_nan, msg_dtype, estimator_name, input_name)\u001b[0m\n\u001b[1;32m    158\u001b[0m \u001b[38;5;28;01mif\u001b[39;00m estimator_name \u001b[38;5;129;01mand\u001b[39;00m input_name \u001b[38;5;241m==\u001b[39m \u001b[38;5;124m\"\u001b[39m\u001b[38;5;124mX\u001b[39m\u001b[38;5;124m\"\u001b[39m \u001b[38;5;129;01mand\u001b[39;00m has_nan_error:\n\u001b[1;32m    159\u001b[0m     \u001b[38;5;66;03m# Improve the error message on how to handle missing values in\u001b[39;00m\n\u001b[1;32m    160\u001b[0m     \u001b[38;5;66;03m# scikit-learn.\u001b[39;00m\n\u001b[1;32m    161\u001b[0m     msg_err \u001b[38;5;241m+\u001b[39m\u001b[38;5;241m=\u001b[39m (\n\u001b[1;32m    162\u001b[0m         \u001b[38;5;124mf\u001b[39m\u001b[38;5;124m\"\u001b[39m\u001b[38;5;130;01m\\n\u001b[39;00m\u001b[38;5;132;01m{\u001b[39;00mestimator_name\u001b[38;5;132;01m}\u001b[39;00m\u001b[38;5;124m does not accept missing values\u001b[39m\u001b[38;5;124m\"\u001b[39m\n\u001b[1;32m    163\u001b[0m         \u001b[38;5;124m\"\u001b[39m\u001b[38;5;124m encoded as NaN natively. For supervised learning, you might want\u001b[39m\u001b[38;5;124m\"\u001b[39m\n\u001b[0;32m   (...)\u001b[0m\n\u001b[1;32m    173\u001b[0m         \u001b[38;5;124m\"\u001b[39m\u001b[38;5;124m#estimators-that-handle-nan-values\u001b[39m\u001b[38;5;124m\"\u001b[39m\n\u001b[1;32m    174\u001b[0m     )\n\u001b[0;32m--> 175\u001b[0m \u001b[38;5;28;01mraise\u001b[39;00m \u001b[38;5;167;01mValueError\u001b[39;00m(msg_err)\n",
      "\u001b[0;31mValueError\u001b[0m: Input X contains NaN.\nPCA does not accept missing values encoded as NaN natively. For supervised learning, you might want to consider sklearn.ensemble.HistGradientBoostingClassifier and Regressor which accept missing values encoded as NaNs natively. Alternatively, it is possible to preprocess the data, for instance by using an imputer transformer in a pipeline or drop samples with missing values. See https://scikit-learn.org/stable/modules/impute.html You can find a list of all estimators that handle NaN values at the following page: https://scikit-learn.org/stable/modules/impute.html#estimators-that-handle-nan-values"
     ]
    }
   ],
   "source": [
    "from sklearn.decomposition import PCA\n",
    "\n",
    "# Convert the date to Unix timestamps\n",
    "\n",
    "data_mod['numerical_date'] = (data_mod['day'] - pd.Timestamp(\"1970-01-01\")) // pd.Timedelta('1s')\n",
    "\n",
    "# Normalize the numerical columns\n",
    "numeric_columns = ['numerical_date', 'pm25']\n",
    "data_mod_numeric = data_mod[numeric_columns]\n",
    "data_mod_normalized = (data_mod_numeric - data_mod_numeric.mean()) / data_mod_numeric.std()\n",
    "\n",
    "\n",
    "pca = PCA()\n",
    "pca.fit(data_mod_normalized)\n",
    "\n",
    "# Plot\n",
    "cumulative_variance_ratio = np.cumsum(pca.explained_variance_ratio_)\n",
    "plt.plot(cumulative_variance_ratio)\n",
    "plt.xlabel('Number of Principal Components')\n",
    "plt.ylabel('Cumulative Proportion of Explained Variance')\n",
    "plt.title('Cumulative Proportion of Explained Variance by Principal Components')\n",
    "plt.grid(True)\n",
    "plt.show()\n",
    "# Apply PCA\n",
    "pca = PCA(n_components=2) \n",
    "\n",
    "principal_components = pca.fit_transform(data_mod_normalized)\n",
    "\n",
    "print(pca.explained_variance_ratio_)  # Variance explained by each principal component\n",
    "\n",
    "component_weights = pca.components_[1]  \n",
    "temporal_cutoff = component_weights[1] / component_weights[0]  \n",
    "\n",
    "print(\"Temporal cutoff interval:\", temporal_cutoff)"
   ]
  },
  {
   "cell_type": "markdown",
   "metadata": {},
   "source": [
    "## MPCA"
   ]
  },
  {
   "cell_type": "code",
   "execution_count": 15,
   "metadata": {},
   "outputs": [
    {
     "ename": "ModuleNotFoundError",
     "evalue": "No module named 'tensorly'",
     "output_type": "error",
     "traceback": [
      "\u001b[0;31m---------------------------------------------------------------------------\u001b[0m",
      "\u001b[0;31mModuleNotFoundError\u001b[0m                       Traceback (most recent call last)",
      "Cell \u001b[0;32mIn[15], line 1\u001b[0m\n\u001b[0;32m----> 1\u001b[0m \u001b[38;5;28;01mimport\u001b[39;00m \u001b[38;5;21;01mtensorly\u001b[39;00m \u001b[38;5;28;01mas\u001b[39;00m \u001b[38;5;21;01mtl\u001b[39;00m\n\u001b[1;32m      2\u001b[0m \u001b[38;5;28;01mfrom\u001b[39;00m \u001b[38;5;21;01mtensorly\u001b[39;00m\u001b[38;5;21;01m.\u001b[39;00m\u001b[38;5;21;01mdecomposition\u001b[39;00m \u001b[38;5;28;01mimport\u001b[39;00m parafac\n\u001b[1;32m      3\u001b[0m \u001b[38;5;28;01mimport\u001b[39;00m \u001b[38;5;21;01mnumpy\u001b[39;00m \u001b[38;5;28;01mas\u001b[39;00m \u001b[38;5;21;01mnp\u001b[39;00m\n",
      "\u001b[0;31mModuleNotFoundError\u001b[0m: No module named 'tensorly'"
     ]
    }
   ],
   "source": [
    "import tensorly as tl\n",
    "from tensorly.decomposition import parafac\n",
    "import numpy as np\n",
    "\n",
    "numeric_columns = ['numerical_date', 'pm25']\n",
    "data_mod_numeric = data_mod[numeric_columns]\n",
    "data_mod_normalized = (data_mod_numeric - data_mod_numeric.mean()) / data_mod_numeric.std()\n",
    "data_numerical_date = data_mod_normalized['numerical_date'].values.reshape(-1, 1, 1)\n",
    "data_pm25 = data_mod_normalized['pm25'].values.reshape(-1, 1, 1)\n",
    "\n",
    "\n",
    "\n",
    "tensor_data = tl.tensor(np.concatenate([data_numerical_date, data_pm25], axis=1))\n",
    "\n",
    "print(\"Tensor_data Shape:\", tensor_data.shape)\n",
    "\n",
    "print(\"Type of tensor_data:\", tensor_data.dtype)\n",
    "\n",
    "# MPCA\n",
    "components = parafac(tensor_data, rank=2)\n",
    "\n",
    "# Extract components\n",
    "component_1 = components.factors[0]  # Componente 1\n",
    "component_2 = components.factors[1]  # Componente 2\n"
   ]
  },
  {
   "cell_type": "code",
   "execution_count": 38,
   "metadata": {},
   "outputs": [
    {
     "name": "stdout",
     "output_type": "stream",
     "text": [
      "explained_variance_ratio_ 1: 0.589376609550208\n",
      "explained_variance_ratio_ 2: 0.41062339044979207\n"
     ]
    }
   ],
   "source": [
    "print(\"explained_variance_ratio_ 1:\", pca.explained_variance_ratio_[0])\n",
    "print(\"explained_variance_ratio_ 2:\", pca.explained_variance_ratio_[1])\n"
   ]
  },
  {
   "cell_type": "code",
   "execution_count": 40,
   "metadata": {},
   "outputs": [
    {
     "name": "stdout",
     "output_type": "stream",
     "text": [
      "temporal cut: 1.1143663168059632\n"
     ]
    }
   ],
   "source": [
    "component_1_weights = component_1[:, 0] \n",
    "temporal_cutoff = component_1_weights[0] / component_1_weights[1]\n",
    "print(\"temporal cut:\", temporal_cutoff)"
   ]
  },
  {
   "cell_type": "markdown",
   "metadata": {},
   "source": [
    "## MMI (Multivariate Mutual Information)"
   ]
  },
  {
   "cell_type": "code",
   "execution_count": 18,
   "metadata": {},
   "outputs": [
    {
     "name": "stdout",
     "output_type": "stream",
     "text": [
      "Mutual Information between 'numerical_date' and 'pm25': 0.3665967213000245\n"
     ]
    }
   ],
   "source": [
    "from sklearn.feature_selection import mutual_info_regression\n",
    "\n",
    "x = data_mod_normalized[[\"numerical_date\"]]  \n",
    "y = data_mod_normalized[\"pm25\"]  \n",
    "\n",
    "mi_score = mutual_info_regression(x, y)[0]\n",
    "\n",
    "print(\"Mutual Information between 'numerical_date' and 'pm25':\", mi_score)"
   ]
  },
  {
   "cell_type": "code",
   "execution_count": 37,
   "metadata": {},
   "outputs": [
    {
     "name": "stdout",
     "output_type": "stream",
     "text": [
      "[-1.83122359]\n",
      "[0.36647713]\n"
     ]
    }
   ],
   "source": [
    "import numpy as np\n",
    "from sklearn.feature_selection import mutual_info_regression\n",
    "\n",
    "time = data_mod_normalized[\"numerical_date\"].values.reshape(-1, 1)\n",
    "pm25 = data_mod_normalized[\"pm25\"].values\n",
    "\n",
    "mutual_info = mutual_info_regression(time, pm25)\n",
    "\n",
    "\n",
    "melhor_corte_temporal = time[np.`argmax(mutual_info)]\n",
    "print(melhor_corte_temporal)\n",
    "print(mutual_info )\n"
   ]
  },
  {
   "cell_type": "markdown",
   "metadata": {},
   "source": [
    "## (HE) Holt-Winters Exponential Smoothing"
   ]
  },
  {
   "cell_type": "code",
   "execution_count": 16,
   "metadata": {},
   "outputs": [
    {
     "ename": "ModuleNotFoundError",
     "evalue": "No module named 'statsmodels'",
     "output_type": "error",
     "traceback": [
      "\u001b[0;31m---------------------------------------------------------------------------\u001b[0m",
      "\u001b[0;31mModuleNotFoundError\u001b[0m                       Traceback (most recent call last)",
      "Cell \u001b[0;32mIn[16], line 2\u001b[0m\n\u001b[1;32m      1\u001b[0m \u001b[38;5;28;01mimport\u001b[39;00m \u001b[38;5;21;01mpandas\u001b[39;00m \u001b[38;5;28;01mas\u001b[39;00m \u001b[38;5;21;01mpd\u001b[39;00m\n\u001b[0;32m----> 2\u001b[0m \u001b[38;5;28;01mfrom\u001b[39;00m \u001b[38;5;21;01mstatsmodels\u001b[39;00m\u001b[38;5;21;01m.\u001b[39;00m\u001b[38;5;21;01mtsa\u001b[39;00m\u001b[38;5;21;01m.\u001b[39;00m\u001b[38;5;21;01mholtwinters\u001b[39;00m \u001b[38;5;28;01mimport\u001b[39;00m ExponentialSmoothing\n\u001b[1;32m      4\u001b[0m data \u001b[38;5;241m=\u001b[39m pd\u001b[38;5;241m.\u001b[39mread_csv(\u001b[38;5;124m\"\u001b[39m\u001b[38;5;124mdata_mod/id_3.csv\u001b[39m\u001b[38;5;124m\"\u001b[39m)\n\u001b[1;32m      5\u001b[0m data[\u001b[38;5;124m'\u001b[39m\u001b[38;5;124mDate\u001b[39m\u001b[38;5;124m'\u001b[39m] \u001b[38;5;241m=\u001b[39m pd\u001b[38;5;241m.\u001b[39mto_datetime(data[\u001b[38;5;124m'\u001b[39m\u001b[38;5;124mDate\u001b[39m\u001b[38;5;124m'\u001b[39m])\n",
      "\u001b[0;31mModuleNotFoundError\u001b[0m: No module named 'statsmodels'"
     ]
    }
   ],
   "source": [
    "import pandas as pd\n",
    "from statsmodels.tsa.holtwinters import ExponentialSmoothing\n",
    "\n",
    "data = pd.read_csv(\"data_mod/id_3.csv\")\n",
    "data['Date'] = pd.to_datetime(data['Date'])\n",
    "data_he = data[['Date', 'Daily Mean PM2.5 Concentration']].copy()\n",
    "\n",
    "data_he['Date'] = pd.to_datetime(data_he['Date'])\n",
    "data_he.set_index('Date', inplace=True)\n",
    "time_freq=(\"20D\")\n",
    "data_he = data_he.resample(time_freq).mean() \n",
    "start_date = data_he.index[0]\n",
    "end_date = data_he.index[-1]\n",
    "idx = pd.date_range(start=start_date, end=end_date, freq=time_freq)\n",
    "data_he = data_he.reindex(idx)\n",
    "\n",
    "model = ExponentialSmoothing(data_he['Daily Mean PM2.5 Concentration'], seasonal_periods=12, trend=None, seasonal='add')\n",
    "\n",
    "model_fit = model.fit()\n",
    "\n",
    "n = 10  \n",
    "forecast = model_fit.forecast(steps=n)\n",
    "print(forecast)"
   ]
  },
  {
   "cell_type": "code",
   "execution_count": 67,
   "metadata": {},
   "outputs": [],
   "source": [
    "forecast.to_csv('data_mod/forecast.csv', index=False)"
   ]
  },
  {
   "cell_type": "code",
   "execution_count": 141,
   "metadata": {},
   "outputs": [
    {
     "data": {
      "text/html": [
       "<div>\n",
       "<style scoped>\n",
       "    .dataframe tbody tr th:only-of-type {\n",
       "        vertical-align: middle;\n",
       "    }\n",
       "\n",
       "    .dataframe tbody tr th {\n",
       "        vertical-align: top;\n",
       "    }\n",
       "\n",
       "    .dataframe thead th {\n",
       "        text-align: right;\n",
       "    }\n",
       "</style>\n",
       "<table border=\"1\" class=\"dataframe\">\n",
       "  <thead>\n",
       "    <tr style=\"text-align: right;\">\n",
       "      <th></th>\n",
       "      <th>Daily Mean PM2.5 Concentration</th>\n",
       "    </tr>\n",
       "  </thead>\n",
       "  <tbody>\n",
       "    <tr>\n",
       "      <th>2023-10-24</th>\n",
       "      <td>13.906897</td>\n",
       "    </tr>\n",
       "    <tr>\n",
       "      <th>2023-11-13</th>\n",
       "      <td>12.650000</td>\n",
       "    </tr>\n",
       "    <tr>\n",
       "      <th>2023-12-03</th>\n",
       "      <td>25.080000</td>\n",
       "    </tr>\n",
       "    <tr>\n",
       "      <th>2023-12-23</th>\n",
       "      <td>15.331579</td>\n",
       "    </tr>\n",
       "    <tr>\n",
       "      <th>2024-01-12</th>\n",
       "      <td>13.089474</td>\n",
       "    </tr>\n",
       "  </tbody>\n",
       "</table>\n",
       "</div>"
      ],
      "text/plain": [
       "            Daily Mean PM2.5 Concentration\n",
       "2023-10-24                       13.906897\n",
       "2023-11-13                       12.650000\n",
       "2023-12-03                       25.080000\n",
       "2023-12-23                       15.331579\n",
       "2024-01-12                       13.089474"
      ]
     },
     "execution_count": 141,
     "metadata": {},
     "output_type": "execute_result"
    }
   ],
   "source": [
    "data_he.tail()"
   ]
  },
  {
   "cell_type": "code",
   "execution_count": 135,
   "metadata": {},
   "outputs": [
    {
     "data": {
      "text/html": [
       "<div>\n",
       "<style scoped>\n",
       "    .dataframe tbody tr th:only-of-type {\n",
       "        vertical-align: middle;\n",
       "    }\n",
       "\n",
       "    .dataframe tbody tr th {\n",
       "        vertical-align: top;\n",
       "    }\n",
       "\n",
       "    .dataframe thead th {\n",
       "        text-align: right;\n",
       "    }\n",
       "</style>\n",
       "<table border=\"1\" class=\"dataframe\">\n",
       "  <thead>\n",
       "    <tr style=\"text-align: right;\">\n",
       "      <th></th>\n",
       "      <th>Date</th>\n",
       "      <th>Source</th>\n",
       "      <th>Site ID</th>\n",
       "      <th>POC</th>\n",
       "      <th>Daily Mean PM2.5 Concentration</th>\n",
       "      <th>UNITS</th>\n",
       "      <th>DAILY_AQI_VALUE</th>\n",
       "      <th>Site Name</th>\n",
       "      <th>DAILY_OBS_COUNT</th>\n",
       "      <th>PERCENT_COMPLETE</th>\n",
       "      <th>AQS_PARAMETER_CODE</th>\n",
       "      <th>AQS_PARAMETER_DESC</th>\n",
       "      <th>CBSA_CODE</th>\n",
       "      <th>CBSA_NAME</th>\n",
       "      <th>STATE_CODE</th>\n",
       "      <th>STATE</th>\n",
       "      <th>COUNTY_CODE</th>\n",
       "      <th>COUNTY</th>\n",
       "      <th>SITE_LATITUDE</th>\n",
       "      <th>SITE_LONGITUDE</th>\n",
       "    </tr>\n",
       "  </thead>\n",
       "  <tbody>\n",
       "    <tr>\n",
       "      <th>23316</th>\n",
       "      <td>2024-01-26</td>\n",
       "      <td>AirNow</td>\n",
       "      <td>60290014</td>\n",
       "      <td>3</td>\n",
       "      <td>8.1</td>\n",
       "      <td>ug/m3 LC</td>\n",
       "      <td>34</td>\n",
       "      <td>Bakersfield-California</td>\n",
       "      <td>1</td>\n",
       "      <td>100.0</td>\n",
       "      <td>88502</td>\n",
       "      <td>Acceptable PM2.5 AQI &amp; Speciation Mass</td>\n",
       "      <td>12540</td>\n",
       "      <td>Bakersfield, CA</td>\n",
       "      <td>6</td>\n",
       "      <td>California</td>\n",
       "      <td>29</td>\n",
       "      <td>Kern</td>\n",
       "      <td>35.356615</td>\n",
       "      <td>-119.062613</td>\n",
       "    </tr>\n",
       "    <tr>\n",
       "      <th>23317</th>\n",
       "      <td>2024-01-27</td>\n",
       "      <td>AirNow</td>\n",
       "      <td>60290014</td>\n",
       "      <td>3</td>\n",
       "      <td>12.0</td>\n",
       "      <td>ug/m3 LC</td>\n",
       "      <td>50</td>\n",
       "      <td>Bakersfield-California</td>\n",
       "      <td>1</td>\n",
       "      <td>100.0</td>\n",
       "      <td>88502</td>\n",
       "      <td>Acceptable PM2.5 AQI &amp; Speciation Mass</td>\n",
       "      <td>12540</td>\n",
       "      <td>Bakersfield, CA</td>\n",
       "      <td>6</td>\n",
       "      <td>California</td>\n",
       "      <td>29</td>\n",
       "      <td>Kern</td>\n",
       "      <td>35.356615</td>\n",
       "      <td>-119.062613</td>\n",
       "    </tr>\n",
       "    <tr>\n",
       "      <th>23318</th>\n",
       "      <td>2024-01-28</td>\n",
       "      <td>AirNow</td>\n",
       "      <td>60290014</td>\n",
       "      <td>3</td>\n",
       "      <td>23.2</td>\n",
       "      <td>ug/m3 LC</td>\n",
       "      <td>74</td>\n",
       "      <td>Bakersfield-California</td>\n",
       "      <td>1</td>\n",
       "      <td>100.0</td>\n",
       "      <td>88502</td>\n",
       "      <td>Acceptable PM2.5 AQI &amp; Speciation Mass</td>\n",
       "      <td>12540</td>\n",
       "      <td>Bakersfield, CA</td>\n",
       "      <td>6</td>\n",
       "      <td>California</td>\n",
       "      <td>29</td>\n",
       "      <td>Kern</td>\n",
       "      <td>35.356615</td>\n",
       "      <td>-119.062613</td>\n",
       "    </tr>\n",
       "    <tr>\n",
       "      <th>23319</th>\n",
       "      <td>2024-01-29</td>\n",
       "      <td>AirNow</td>\n",
       "      <td>60290014</td>\n",
       "      <td>3</td>\n",
       "      <td>25.6</td>\n",
       "      <td>ug/m3 LC</td>\n",
       "      <td>79</td>\n",
       "      <td>Bakersfield-California</td>\n",
       "      <td>1</td>\n",
       "      <td>100.0</td>\n",
       "      <td>88502</td>\n",
       "      <td>Acceptable PM2.5 AQI &amp; Speciation Mass</td>\n",
       "      <td>12540</td>\n",
       "      <td>Bakersfield, CA</td>\n",
       "      <td>6</td>\n",
       "      <td>California</td>\n",
       "      <td>29</td>\n",
       "      <td>Kern</td>\n",
       "      <td>35.356615</td>\n",
       "      <td>-119.062613</td>\n",
       "    </tr>\n",
       "    <tr>\n",
       "      <th>23320</th>\n",
       "      <td>2024-01-30</td>\n",
       "      <td>AirNow</td>\n",
       "      <td>60290014</td>\n",
       "      <td>3</td>\n",
       "      <td>12.8</td>\n",
       "      <td>ug/m3 LC</td>\n",
       "      <td>52</td>\n",
       "      <td>Bakersfield-California</td>\n",
       "      <td>1</td>\n",
       "      <td>100.0</td>\n",
       "      <td>88502</td>\n",
       "      <td>Acceptable PM2.5 AQI &amp; Speciation Mass</td>\n",
       "      <td>12540</td>\n",
       "      <td>Bakersfield, CA</td>\n",
       "      <td>6</td>\n",
       "      <td>California</td>\n",
       "      <td>29</td>\n",
       "      <td>Kern</td>\n",
       "      <td>35.356615</td>\n",
       "      <td>-119.062613</td>\n",
       "    </tr>\n",
       "  </tbody>\n",
       "</table>\n",
       "</div>"
      ],
      "text/plain": [
       "            Date  Source   Site ID  POC  Daily Mean PM2.5 Concentration  \\\n",
       "23316 2024-01-26  AirNow  60290014    3                             8.1   \n",
       "23317 2024-01-27  AirNow  60290014    3                            12.0   \n",
       "23318 2024-01-28  AirNow  60290014    3                            23.2   \n",
       "23319 2024-01-29  AirNow  60290014    3                            25.6   \n",
       "23320 2024-01-30  AirNow  60290014    3                            12.8   \n",
       "\n",
       "          UNITS  DAILY_AQI_VALUE               Site Name  DAILY_OBS_COUNT  \\\n",
       "23316  ug/m3 LC               34  Bakersfield-California                1   \n",
       "23317  ug/m3 LC               50  Bakersfield-California                1   \n",
       "23318  ug/m3 LC               74  Bakersfield-California                1   \n",
       "23319  ug/m3 LC               79  Bakersfield-California                1   \n",
       "23320  ug/m3 LC               52  Bakersfield-California                1   \n",
       "\n",
       "       PERCENT_COMPLETE  AQS_PARAMETER_CODE  \\\n",
       "23316             100.0               88502   \n",
       "23317             100.0               88502   \n",
       "23318             100.0               88502   \n",
       "23319             100.0               88502   \n",
       "23320             100.0               88502   \n",
       "\n",
       "                           AQS_PARAMETER_DESC  CBSA_CODE        CBSA_NAME  \\\n",
       "23316  Acceptable PM2.5 AQI & Speciation Mass      12540  Bakersfield, CA   \n",
       "23317  Acceptable PM2.5 AQI & Speciation Mass      12540  Bakersfield, CA   \n",
       "23318  Acceptable PM2.5 AQI & Speciation Mass      12540  Bakersfield, CA   \n",
       "23319  Acceptable PM2.5 AQI & Speciation Mass      12540  Bakersfield, CA   \n",
       "23320  Acceptable PM2.5 AQI & Speciation Mass      12540  Bakersfield, CA   \n",
       "\n",
       "       STATE_CODE       STATE  COUNTY_CODE COUNTY  SITE_LATITUDE  \\\n",
       "23316           6  California           29   Kern      35.356615   \n",
       "23317           6  California           29   Kern      35.356615   \n",
       "23318           6  California           29   Kern      35.356615   \n",
       "23319           6  California           29   Kern      35.356615   \n",
       "23320           6  California           29   Kern      35.356615   \n",
       "\n",
       "       SITE_LONGITUDE  \n",
       "23316     -119.062613  \n",
       "23317     -119.062613  \n",
       "23318     -119.062613  \n",
       "23319     -119.062613  \n",
       "23320     -119.062613  "
      ]
     },
     "execution_count": 135,
     "metadata": {},
     "output_type": "execute_result"
    }
   ],
   "source": [
    "data.tail()"
   ]
  }
 ],
 "metadata": {
  "kernelspec": {
   "display_name": "Python 3",
   "language": "python",
   "name": "python3"
  },
  "language_info": {
   "codemirror_mode": {
    "name": "ipython",
    "version": 3
   },
   "file_extension": ".py",
   "mimetype": "text/x-python",
   "name": "python",
   "nbconvert_exporter": "python",
   "pygments_lexer": "ipython3",
   "version": "3.10.12"
  }
 },
 "nbformat": 4,
 "nbformat_minor": 2
}
